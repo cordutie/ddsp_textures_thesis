{
 "cells": [
  {
   "cell_type": "code",
   "execution_count": 1,
   "metadata": {},
   "outputs": [],
   "source": [
    "# from signal_processors import *\n",
    "\n",
    "# # Load audio file\n",
    "# signal_path = \"noises/fire.wav\"\n",
    "# y, fs = torchaudio.load(signal_path)\n",
    "# y = y[0, :65536]  # Take the first channel and first 65536 samples\n",
    "# plotter(y, fs)\n",
    "\n",
    "# # Generate seed\n",
    "# seed_1 = seed_maker(65536, 44100, 16)\n",
    "# seed_2 = seed_maker(65536, 44100, 16)\n",
    "# seed_3 = seed_maker(65536, 44100, 16)\n",
    "\n",
    "# # Extract parameters\n",
    "# parameters_real, parameters_imag = textsynth_env_param_extractor(y, fs, 16, 1/8)\n",
    "\n",
    "# # Resynthesize signal\n",
    "# resynthesis_1 = textsynth_env(parameters_real, parameters_imag, seed_1, 16, 65536)\n",
    "# resynthesis_2 = textsynth_env(parameters_real, parameters_imag, seed_2, 16, 65536)\n",
    "# resynthesis_3 = textsynth_env(parameters_real, parameters_imag, seed_3, 16, 65536)\n",
    "\n",
    "# # Plot resynthesized signal\n",
    "# plotter(resynthesis_1, fs)\n",
    "# plotter(resynthesis_2, fs)\n",
    "# plotter(resynthesis_3, fs)"
   ]
  },
  {
   "cell_type": "code",
   "execution_count": 2,
   "metadata": {},
   "outputs": [
    {
     "name": "stdout",
     "output_type": "stream",
     "text": [
      "3453\n"
     ]
    }
   ],
   "source": [
    "from models.model_1 import *\n",
    "import torch\n",
    "import torch.optim as optim\n",
    "from tqdm import tqdm\n",
    "\n",
    "device = torch.device(\"cuda\" if torch.cuda.is_available() else \"cpu\")\n",
    "\n",
    "# Initialize model and move it to the appropriate device\n",
    "hidden_size = 128  # Example hidden size\n",
    "N_filter_bank = 16  # Example filter bank size\n",
    "frame_size = 2**15  # Example frame size\n",
    "sampling_rate = 44100  # Example sampling rate\n",
    "compression = 8  # Placeholder for compression\n",
    "\n",
    "# Model initialization\n",
    "model = DDSP_textenv(hidden_size=128, N_filter_bank=16, deepness=2, compression=8, frame_size=2**15, sampling_rate=44100).to(device)\n",
    "\n",
    "# Dataset maker\n",
    "dataset = SoundDataset(audio_path='sounds/fire_long.wav', frame_size=2**15, hop_size=2**10, sampling_rate=44100, N_filter_bank=N_filter_bank)\n",
    "dataset.compute_dataset()\n",
    "actual_dataset = dataset.content\n",
    "dataloader = DataLoader(actual_dataset, batch_size=32, shuffle=True)\n",
    "\n",
    "# Initialize the optimizer\n",
    "optimizer = optim.Adam(model.parameters(), lr=1e-2)\n",
    "\n",
    "# Hyperparameters for multiscale FFT (loss function)\n",
    "scales = [2048, 1024, 512, 256]  # Example scales\n",
    "overlap = 0.5                    # Example overlap"
   ]
  },
  {
   "cell_type": "code",
   "execution_count": 4,
   "metadata": {},
   "outputs": [
    {
     "name": "stderr",
     "output_type": "stream",
     "text": [
      "Epoch 1/3: 100%|██████████| 108/108 [00:40<00:00,  2.64it/s]\n"
     ]
    },
    {
     "name": "stdout",
     "output_type": "stream",
     "text": [
      "Epoch [1/3], Loss: 5.2539\n"
     ]
    },
    {
     "name": "stderr",
     "output_type": "stream",
     "text": [
      "Epoch 2/3: 100%|██████████| 108/108 [00:41<00:00,  2.58it/s]\n"
     ]
    },
    {
     "name": "stdout",
     "output_type": "stream",
     "text": [
      "Epoch [2/3], Loss: 5.2187\n"
     ]
    },
    {
     "name": "stderr",
     "output_type": "stream",
     "text": [
      "Epoch 3/3: 100%|██████████| 108/108 [00:40<00:00,  2.66it/s]"
     ]
    },
    {
     "name": "stdout",
     "output_type": "stream",
     "text": [
      "Epoch [3/3], Loss: 5.2366\n",
      "Training complete.\n"
     ]
    },
    {
     "name": "stderr",
     "output_type": "stream",
     "text": [
      "\n"
     ]
    }
   ],
   "source": [
    "# Training loop\n",
    "num_epochs = 3  # Define the number of epochs\n",
    "for epoch in range(num_epochs):\n",
    "    model.train()\n",
    "    running_loss = 0.0\n",
    "\n",
    "    for batch in tqdm(dataloader, desc=f\"Epoch {epoch+1}/{num_epochs}\"):\n",
    "        # Unpack batch data\n",
    "        features, segments = batch\n",
    "        spectral_centroid = features[0].unsqueeze(1).to(device)\n",
    "        loudness = features[1].to(device)\n",
    "        segments = segments.to(device)\n",
    "\n",
    "        # Zero the parameter gradients\n",
    "        optimizer.zero_grad()\n",
    "\n",
    "        # Forward pass\n",
    "        reconstructed_signal, _ = model(spectral_centroid, loudness)\n",
    "\n",
    "        # Compute loss\n",
    "        loss = multispectrogram_loss(segments, reconstructed_signal, scales, overlap)\n",
    "\n",
    "        # Backward pass and optimization\n",
    "        loss.backward()\n",
    "        optimizer.step()\n",
    "\n",
    "        # Accumulate the loss\n",
    "        running_loss += loss.item()\n",
    "\n",
    "    # Print average loss for the epoch\n",
    "    avg_loss = running_loss / len(dataloader)\n",
    "    print(f\"Epoch [{epoch+1}/{num_epochs}], Loss: {avg_loss:.4f}\")\n",
    "\n",
    "\n",
    "    # Save checkpoint\n",
    "    checkpoint = {\n",
    "        'epoch': epoch + 1,\n",
    "        'model_state_dict': model.state_dict(),\n",
    "        'optimizer_state_dict': optimizer.state_dict(),\n",
    "        'best_loss': best_loss,\n",
    "    }\n",
    "    torch.save(checkpoint, \"\")\n",
    "\n",
    "print(\"Training complete.\")"
   ]
  }
 ],
 "metadata": {
  "kernelspec": {
   "display_name": "Python 3",
   "language": "python",
   "name": "python3"
  },
  "language_info": {
   "codemirror_mode": {
    "name": "ipython",
    "version": 3
   },
   "file_extension": ".py",
   "mimetype": "text/x-python",
   "name": "python",
   "nbconvert_exporter": "python",
   "pygments_lexer": "ipython3",
   "version": "3.12.3"
  }
 },
 "nbformat": 4,
 "nbformat_minor": 2
}
