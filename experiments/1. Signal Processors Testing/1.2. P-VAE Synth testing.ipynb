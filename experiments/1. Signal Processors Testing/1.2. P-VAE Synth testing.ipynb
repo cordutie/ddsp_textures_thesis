{
 "cells": [
  {
   "cell_type": "code",
   "execution_count": 1,
   "metadata": {},
   "outputs": [],
   "source": [
    "#Git clone the ddsp_textures repo in the parent directory if you haven't already"
   ]
  },
  {
   "cell_type": "code",
   "execution_count": 2,
   "metadata": {},
   "outputs": [],
   "source": [
    "#Add the grand-parent and ddsp directories to the Python path\n",
    "import sys\n",
    "import os\n",
    "\n",
    "grandparent_dir = os.path.abspath(os.path.join(os.getcwd(), '../../'))\n",
    "if grandparent_dir not in sys.path:\n",
    "    sys.path.append(grandparent_dir)\n",
    "    \n",
    "ddsp_dir = os.path.abspath(os.path.join(os.getcwd(), '../../ddsp_textures'))\n",
    "if ddsp_dir not in sys.path:\n",
    "    sys.path.append(grandparent_dir)"
   ]
  },
  {
   "cell_type": "code",
   "execution_count": 3,
   "metadata": {},
   "outputs": [
    {
     "ename": "ModuleNotFoundError",
     "evalue": "No module named 'auxiliar'",
     "output_type": "error",
     "traceback": [
      "\u001b[0;31m---------------------------------------------------------------------------\u001b[0m",
      "\u001b[0;31mModuleNotFoundError\u001b[0m                       Traceback (most recent call last)",
      "Cell \u001b[0;32mIn[3], line 2\u001b[0m\n\u001b[1;32m      1\u001b[0m \u001b[38;5;66;03m# import modules\u001b[39;00m\n\u001b[0;32m----> 2\u001b[0m \u001b[38;5;28;01mimport\u001b[39;00m \u001b[38;5;21;01mddsp_textures\u001b[39;00m\u001b[38;5;21;01m.\u001b[39;00m\u001b[38;5;21;01msignal_processors\u001b[39;00m\u001b[38;5;21;01m.\u001b[39;00m\u001b[38;5;21;01msynthesizers\u001b[39;00m \u001b[38;5;28;01mas\u001b[39;00m \u001b[38;5;21;01msp\u001b[39;00m\n\u001b[1;32m      3\u001b[0m \u001b[38;5;28;01mimport\u001b[39;00m \u001b[38;5;21;01mddsp_textures\u001b[39;00m\u001b[38;5;21;01m.\u001b[39;00m\u001b[38;5;21;01mauxiliar\u001b[39;00m\u001b[38;5;21;01m.\u001b[39;00m\u001b[38;5;21;01mseeds\u001b[39;00m \u001b[38;5;28;01mas\u001b[39;00m \u001b[38;5;21;01mseeds\u001b[39;00m\n\u001b[1;32m      5\u001b[0m \u001b[38;5;66;03m# Extra packages\u001b[39;00m\n",
      "File \u001b[0;32m~/Desktop/ddsp_textures_thesis/ddsp_textures/signal_processors/synthesizers.py:3\u001b[0m\n\u001b[1;32m      1\u001b[0m \u001b[38;5;28;01mimport\u001b[39;00m \u001b[38;5;21;01mtorch\u001b[39;00m\n\u001b[1;32m      2\u001b[0m \u001b[38;5;28;01mimport\u001b[39;00m \u001b[38;5;21;01mnumpy\u001b[39;00m \u001b[38;5;28;01mas\u001b[39;00m \u001b[38;5;21;01mnp\u001b[39;00m\n\u001b[0;32m----> 3\u001b[0m \u001b[38;5;28;01mimport\u001b[39;00m \u001b[38;5;21;01mauxiliar\u001b[39;00m\u001b[38;5;21;01m.\u001b[39;00m\u001b[38;5;21;01mfilterbanks\u001b[39;00m\n\u001b[1;32m      4\u001b[0m \u001b[38;5;28;01mfrom\u001b[39;00m \u001b[38;5;21;01mauxiliar\u001b[39;00m\u001b[38;5;21;01m.\u001b[39;00m\u001b[38;5;21;01mseeds\u001b[39;00m \u001b[38;5;28;01mimport\u001b[39;00m \u001b[38;5;241m*\u001b[39m\n\u001b[1;32m      6\u001b[0m \u001b[38;5;66;03m# SubEnv ----------------------------------------------------------------------------------------------\u001b[39;00m\n",
      "\u001b[0;31mModuleNotFoundError\u001b[0m: No module named 'auxiliar'"
     ]
    }
   ],
   "source": [
    "# import modules\n",
    "import ddsp_textures.signal_processors.synthesizers as sp\n",
    "import ddsp_textures.auxiliar.seeds as seeds\n",
    "\n",
    "# Extra packages\n",
    "import numpy as np\n",
    "import librosa\n",
    "import matplotlib.pyplot as plt\n",
    "from IPython.display import Audio\n",
    "import torch"
   ]
  },
  {
   "cell_type": "code",
   "execution_count": null,
   "metadata": {},
   "outputs": [],
   "source": [
    "# Resysnthesis function\n",
    "def resynthesize_and_display(segments, sr, seed, N_filter_bank, frame_size, param_per_env, label, N):\n",
    "    for _ in range(N):\n",
    "        segment = segments[np.random.randint(len(segments))]\n",
    "        segment = torch.tensor(segment, dtype=torch.float32)\n",
    "        param_real, param_imag = sp.TextEnv_param_extractor(segment, sr, N_filter_bank, param_per_env)\n",
    "        new_audio = sp.synthesizers.TextEnv(param_real, param_imag, seed)\n",
    "        print(f\"{label} original audio\")\n",
    "        display(Audio(data=segment.numpy(), rate=sr))\n",
    "        print(f\"{label} resynthesized audio\")\n",
    "        display(Audio(data=new_audio.numpy(), rate=sr))"
   ]
  }
 ],
 "metadata": {
  "kernelspec": {
   "display_name": "Python 3",
   "language": "python",
   "name": "python3"
  },
  "language_info": {
   "codemirror_mode": {
    "name": "ipython",
    "version": 3
   },
   "file_extension": ".py",
   "mimetype": "text/x-python",
   "name": "python",
   "nbconvert_exporter": "python",
   "pygments_lexer": "ipython3",
   "version": "3.10.12"
  }
 },
 "nbformat": 4,
 "nbformat_minor": 2
}
